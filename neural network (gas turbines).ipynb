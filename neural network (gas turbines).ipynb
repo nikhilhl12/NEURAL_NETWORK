{
 "cells": [
  {
   "cell_type": "code",
   "execution_count": 1,
   "id": "1b2ac5f2",
   "metadata": {},
   "outputs": [],
   "source": [
    "import pandas as pd\n",
    "import numpy as np\n",
    "import matplotlib.pyplot as plt\n",
    "from sklearn.model_selection import train_test_split\n",
    "from sklearn.metrics import mean_squared_error\n",
    "import warnings\n",
    "warnings.filterwarnings(\"ignore\")"
   ]
  },
  {
   "cell_type": "code",
   "execution_count": 2,
   "id": "ab53ff74",
   "metadata": {},
   "outputs": [
    {
     "data": {
      "text/html": [
       "<div>\n",
       "<style scoped>\n",
       "    .dataframe tbody tr th:only-of-type {\n",
       "        vertical-align: middle;\n",
       "    }\n",
       "\n",
       "    .dataframe tbody tr th {\n",
       "        vertical-align: top;\n",
       "    }\n",
       "\n",
       "    .dataframe thead th {\n",
       "        text-align: right;\n",
       "    }\n",
       "</style>\n",
       "<table border=\"1\" class=\"dataframe\">\n",
       "  <thead>\n",
       "    <tr style=\"text-align: right;\">\n",
       "      <th></th>\n",
       "      <th>AT</th>\n",
       "      <th>AP</th>\n",
       "      <th>AH</th>\n",
       "      <th>AFDP</th>\n",
       "      <th>GTEP</th>\n",
       "      <th>TIT</th>\n",
       "      <th>TAT</th>\n",
       "      <th>TEY</th>\n",
       "      <th>CDP</th>\n",
       "      <th>CO</th>\n",
       "      <th>NOX</th>\n",
       "    </tr>\n",
       "  </thead>\n",
       "  <tbody>\n",
       "    <tr>\n",
       "      <th>0</th>\n",
       "      <td>6.8594</td>\n",
       "      <td>1007.9</td>\n",
       "      <td>96.799</td>\n",
       "      <td>3.5000</td>\n",
       "      <td>19.663</td>\n",
       "      <td>1059.2</td>\n",
       "      <td>550.00</td>\n",
       "      <td>114.70</td>\n",
       "      <td>10.605</td>\n",
       "      <td>3.1547</td>\n",
       "      <td>82.722</td>\n",
       "    </tr>\n",
       "    <tr>\n",
       "      <th>1</th>\n",
       "      <td>6.7850</td>\n",
       "      <td>1008.4</td>\n",
       "      <td>97.118</td>\n",
       "      <td>3.4998</td>\n",
       "      <td>19.728</td>\n",
       "      <td>1059.3</td>\n",
       "      <td>550.00</td>\n",
       "      <td>114.72</td>\n",
       "      <td>10.598</td>\n",
       "      <td>3.2363</td>\n",
       "      <td>82.776</td>\n",
       "    </tr>\n",
       "    <tr>\n",
       "      <th>2</th>\n",
       "      <td>6.8977</td>\n",
       "      <td>1008.8</td>\n",
       "      <td>95.939</td>\n",
       "      <td>3.4824</td>\n",
       "      <td>19.779</td>\n",
       "      <td>1059.4</td>\n",
       "      <td>549.87</td>\n",
       "      <td>114.71</td>\n",
       "      <td>10.601</td>\n",
       "      <td>3.2012</td>\n",
       "      <td>82.468</td>\n",
       "    </tr>\n",
       "    <tr>\n",
       "      <th>3</th>\n",
       "      <td>7.0569</td>\n",
       "      <td>1009.2</td>\n",
       "      <td>95.249</td>\n",
       "      <td>3.4805</td>\n",
       "      <td>19.792</td>\n",
       "      <td>1059.6</td>\n",
       "      <td>549.99</td>\n",
       "      <td>114.72</td>\n",
       "      <td>10.606</td>\n",
       "      <td>3.1923</td>\n",
       "      <td>82.670</td>\n",
       "    </tr>\n",
       "    <tr>\n",
       "      <th>4</th>\n",
       "      <td>7.3978</td>\n",
       "      <td>1009.7</td>\n",
       "      <td>95.150</td>\n",
       "      <td>3.4976</td>\n",
       "      <td>19.765</td>\n",
       "      <td>1059.7</td>\n",
       "      <td>549.98</td>\n",
       "      <td>114.72</td>\n",
       "      <td>10.612</td>\n",
       "      <td>3.2484</td>\n",
       "      <td>82.311</td>\n",
       "    </tr>\n",
       "    <tr>\n",
       "      <th>...</th>\n",
       "      <td>...</td>\n",
       "      <td>...</td>\n",
       "      <td>...</td>\n",
       "      <td>...</td>\n",
       "      <td>...</td>\n",
       "      <td>...</td>\n",
       "      <td>...</td>\n",
       "      <td>...</td>\n",
       "      <td>...</td>\n",
       "      <td>...</td>\n",
       "      <td>...</td>\n",
       "    </tr>\n",
       "    <tr>\n",
       "      <th>15034</th>\n",
       "      <td>9.0301</td>\n",
       "      <td>1005.6</td>\n",
       "      <td>98.460</td>\n",
       "      <td>3.5421</td>\n",
       "      <td>19.164</td>\n",
       "      <td>1049.7</td>\n",
       "      <td>546.21</td>\n",
       "      <td>111.61</td>\n",
       "      <td>10.400</td>\n",
       "      <td>4.5186</td>\n",
       "      <td>79.559</td>\n",
       "    </tr>\n",
       "    <tr>\n",
       "      <th>15035</th>\n",
       "      <td>7.8879</td>\n",
       "      <td>1005.9</td>\n",
       "      <td>99.093</td>\n",
       "      <td>3.5059</td>\n",
       "      <td>19.414</td>\n",
       "      <td>1046.3</td>\n",
       "      <td>543.22</td>\n",
       "      <td>111.78</td>\n",
       "      <td>10.433</td>\n",
       "      <td>4.8470</td>\n",
       "      <td>79.917</td>\n",
       "    </tr>\n",
       "    <tr>\n",
       "      <th>15036</th>\n",
       "      <td>7.2647</td>\n",
       "      <td>1006.3</td>\n",
       "      <td>99.496</td>\n",
       "      <td>3.4770</td>\n",
       "      <td>19.530</td>\n",
       "      <td>1037.7</td>\n",
       "      <td>537.32</td>\n",
       "      <td>110.19</td>\n",
       "      <td>10.483</td>\n",
       "      <td>7.9632</td>\n",
       "      <td>90.912</td>\n",
       "    </tr>\n",
       "    <tr>\n",
       "      <th>15037</th>\n",
       "      <td>7.0060</td>\n",
       "      <td>1006.8</td>\n",
       "      <td>99.008</td>\n",
       "      <td>3.4486</td>\n",
       "      <td>19.377</td>\n",
       "      <td>1043.2</td>\n",
       "      <td>541.24</td>\n",
       "      <td>110.74</td>\n",
       "      <td>10.533</td>\n",
       "      <td>6.2494</td>\n",
       "      <td>93.227</td>\n",
       "    </tr>\n",
       "    <tr>\n",
       "      <th>15038</th>\n",
       "      <td>6.9279</td>\n",
       "      <td>1007.2</td>\n",
       "      <td>97.533</td>\n",
       "      <td>3.4275</td>\n",
       "      <td>19.306</td>\n",
       "      <td>1049.9</td>\n",
       "      <td>545.85</td>\n",
       "      <td>111.58</td>\n",
       "      <td>10.583</td>\n",
       "      <td>4.9816</td>\n",
       "      <td>92.498</td>\n",
       "    </tr>\n",
       "  </tbody>\n",
       "</table>\n",
       "<p>15039 rows × 11 columns</p>\n",
       "</div>"
      ],
      "text/plain": [
       "           AT      AP      AH    AFDP    GTEP     TIT     TAT     TEY     CDP  \\\n",
       "0      6.8594  1007.9  96.799  3.5000  19.663  1059.2  550.00  114.70  10.605   \n",
       "1      6.7850  1008.4  97.118  3.4998  19.728  1059.3  550.00  114.72  10.598   \n",
       "2      6.8977  1008.8  95.939  3.4824  19.779  1059.4  549.87  114.71  10.601   \n",
       "3      7.0569  1009.2  95.249  3.4805  19.792  1059.6  549.99  114.72  10.606   \n",
       "4      7.3978  1009.7  95.150  3.4976  19.765  1059.7  549.98  114.72  10.612   \n",
       "...       ...     ...     ...     ...     ...     ...     ...     ...     ...   \n",
       "15034  9.0301  1005.6  98.460  3.5421  19.164  1049.7  546.21  111.61  10.400   \n",
       "15035  7.8879  1005.9  99.093  3.5059  19.414  1046.3  543.22  111.78  10.433   \n",
       "15036  7.2647  1006.3  99.496  3.4770  19.530  1037.7  537.32  110.19  10.483   \n",
       "15037  7.0060  1006.8  99.008  3.4486  19.377  1043.2  541.24  110.74  10.533   \n",
       "15038  6.9279  1007.2  97.533  3.4275  19.306  1049.9  545.85  111.58  10.583   \n",
       "\n",
       "           CO     NOX  \n",
       "0      3.1547  82.722  \n",
       "1      3.2363  82.776  \n",
       "2      3.2012  82.468  \n",
       "3      3.1923  82.670  \n",
       "4      3.2484  82.311  \n",
       "...       ...     ...  \n",
       "15034  4.5186  79.559  \n",
       "15035  4.8470  79.917  \n",
       "15036  7.9632  90.912  \n",
       "15037  6.2494  93.227  \n",
       "15038  4.9816  92.498  \n",
       "\n",
       "[15039 rows x 11 columns]"
      ]
     },
     "execution_count": 2,
     "metadata": {},
     "output_type": "execute_result"
    }
   ],
   "source": [
    "gt=pd.read_csv(\"gas_turbines.csv\")\n",
    "gt"
   ]
  },
  {
   "cell_type": "code",
   "execution_count": 3,
   "id": "751fcf61",
   "metadata": {},
   "outputs": [
    {
     "name": "stdout",
     "output_type": "stream",
     "text": [
      "<class 'pandas.core.frame.DataFrame'>\n",
      "RangeIndex: 15039 entries, 0 to 15038\n",
      "Data columns (total 11 columns):\n",
      " #   Column  Non-Null Count  Dtype  \n",
      "---  ------  --------------  -----  \n",
      " 0   AT      15039 non-null  float64\n",
      " 1   AP      15039 non-null  float64\n",
      " 2   AH      15039 non-null  float64\n",
      " 3   AFDP    15039 non-null  float64\n",
      " 4   GTEP    15039 non-null  float64\n",
      " 5   TIT     15039 non-null  float64\n",
      " 6   TAT     15039 non-null  float64\n",
      " 7   TEY     15039 non-null  float64\n",
      " 8   CDP     15039 non-null  float64\n",
      " 9   CO      15039 non-null  float64\n",
      " 10  NOX     15039 non-null  float64\n",
      "dtypes: float64(11)\n",
      "memory usage: 1.3 MB\n"
     ]
    }
   ],
   "source": [
    "gt.info()"
   ]
  },
  {
   "cell_type": "code",
   "execution_count": 4,
   "id": "ba0e2f88",
   "metadata": {},
   "outputs": [
    {
     "data": {
      "text/plain": [
       "0"
      ]
     },
     "execution_count": 4,
     "metadata": {},
     "output_type": "execute_result"
    }
   ],
   "source": [
    "gt.duplicated().sum()"
   ]
  },
  {
   "cell_type": "code",
   "execution_count": null,
   "id": "e095c821",
   "metadata": {},
   "outputs": [],
   "source": []
  },
  {
   "cell_type": "code",
   "execution_count": 5,
   "id": "0aaff1be",
   "metadata": {},
   "outputs": [
    {
     "data": {
      "text/html": [
       "<div>\n",
       "<style scoped>\n",
       "    .dataframe tbody tr th:only-of-type {\n",
       "        vertical-align: middle;\n",
       "    }\n",
       "\n",
       "    .dataframe tbody tr th {\n",
       "        vertical-align: top;\n",
       "    }\n",
       "\n",
       "    .dataframe thead th {\n",
       "        text-align: right;\n",
       "    }\n",
       "</style>\n",
       "<table border=\"1\" class=\"dataframe\">\n",
       "  <thead>\n",
       "    <tr style=\"text-align: right;\">\n",
       "      <th></th>\n",
       "      <th>AT</th>\n",
       "      <th>AP</th>\n",
       "      <th>AH</th>\n",
       "      <th>AFDP</th>\n",
       "      <th>GTEP</th>\n",
       "      <th>TIT</th>\n",
       "      <th>TAT</th>\n",
       "      <th>TEY</th>\n",
       "      <th>CDP</th>\n",
       "      <th>CO</th>\n",
       "      <th>NOX</th>\n",
       "    </tr>\n",
       "  </thead>\n",
       "  <tbody>\n",
       "    <tr>\n",
       "      <th>AT</th>\n",
       "      <td>1.000000</td>\n",
       "      <td>-0.412953</td>\n",
       "      <td>-0.549432</td>\n",
       "      <td>-0.099333</td>\n",
       "      <td>-0.049103</td>\n",
       "      <td>0.093067</td>\n",
       "      <td>0.338569</td>\n",
       "      <td>-0.207495</td>\n",
       "      <td>-0.100705</td>\n",
       "      <td>-0.088588</td>\n",
       "      <td>-0.600006</td>\n",
       "    </tr>\n",
       "    <tr>\n",
       "      <th>AP</th>\n",
       "      <td>-0.412953</td>\n",
       "      <td>1.000000</td>\n",
       "      <td>0.042573</td>\n",
       "      <td>0.040318</td>\n",
       "      <td>0.078575</td>\n",
       "      <td>0.029650</td>\n",
       "      <td>-0.223479</td>\n",
       "      <td>0.146939</td>\n",
       "      <td>0.131198</td>\n",
       "      <td>0.041614</td>\n",
       "      <td>0.256744</td>\n",
       "    </tr>\n",
       "    <tr>\n",
       "      <th>AH</th>\n",
       "      <td>-0.549432</td>\n",
       "      <td>0.042573</td>\n",
       "      <td>1.000000</td>\n",
       "      <td>-0.119249</td>\n",
       "      <td>-0.202784</td>\n",
       "      <td>-0.247781</td>\n",
       "      <td>0.010859</td>\n",
       "      <td>-0.110272</td>\n",
       "      <td>-0.182010</td>\n",
       "      <td>0.165505</td>\n",
       "      <td>0.143061</td>\n",
       "    </tr>\n",
       "    <tr>\n",
       "      <th>AFDP</th>\n",
       "      <td>-0.099333</td>\n",
       "      <td>0.040318</td>\n",
       "      <td>-0.119249</td>\n",
       "      <td>1.000000</td>\n",
       "      <td>0.744251</td>\n",
       "      <td>0.627254</td>\n",
       "      <td>-0.571541</td>\n",
       "      <td>0.717995</td>\n",
       "      <td>0.727152</td>\n",
       "      <td>-0.334207</td>\n",
       "      <td>-0.037299</td>\n",
       "    </tr>\n",
       "    <tr>\n",
       "      <th>GTEP</th>\n",
       "      <td>-0.049103</td>\n",
       "      <td>0.078575</td>\n",
       "      <td>-0.202784</td>\n",
       "      <td>0.744251</td>\n",
       "      <td>1.000000</td>\n",
       "      <td>0.874526</td>\n",
       "      <td>-0.756884</td>\n",
       "      <td>0.977042</td>\n",
       "      <td>0.993784</td>\n",
       "      <td>-0.508259</td>\n",
       "      <td>-0.208496</td>\n",
       "    </tr>\n",
       "    <tr>\n",
       "      <th>TIT</th>\n",
       "      <td>0.093067</td>\n",
       "      <td>0.029650</td>\n",
       "      <td>-0.247781</td>\n",
       "      <td>0.627254</td>\n",
       "      <td>0.874526</td>\n",
       "      <td>1.000000</td>\n",
       "      <td>-0.357320</td>\n",
       "      <td>0.891587</td>\n",
       "      <td>0.887238</td>\n",
       "      <td>-0.688272</td>\n",
       "      <td>-0.231636</td>\n",
       "    </tr>\n",
       "    <tr>\n",
       "      <th>TAT</th>\n",
       "      <td>0.338569</td>\n",
       "      <td>-0.223479</td>\n",
       "      <td>0.010859</td>\n",
       "      <td>-0.571541</td>\n",
       "      <td>-0.756884</td>\n",
       "      <td>-0.357320</td>\n",
       "      <td>1.000000</td>\n",
       "      <td>-0.720356</td>\n",
       "      <td>-0.744740</td>\n",
       "      <td>0.063404</td>\n",
       "      <td>0.009888</td>\n",
       "    </tr>\n",
       "    <tr>\n",
       "      <th>TEY</th>\n",
       "      <td>-0.207495</td>\n",
       "      <td>0.146939</td>\n",
       "      <td>-0.110272</td>\n",
       "      <td>0.717995</td>\n",
       "      <td>0.977042</td>\n",
       "      <td>0.891587</td>\n",
       "      <td>-0.720356</td>\n",
       "      <td>1.000000</td>\n",
       "      <td>0.988473</td>\n",
       "      <td>-0.541751</td>\n",
       "      <td>-0.102631</td>\n",
       "    </tr>\n",
       "    <tr>\n",
       "      <th>CDP</th>\n",
       "      <td>-0.100705</td>\n",
       "      <td>0.131198</td>\n",
       "      <td>-0.182010</td>\n",
       "      <td>0.727152</td>\n",
       "      <td>0.993784</td>\n",
       "      <td>0.887238</td>\n",
       "      <td>-0.744740</td>\n",
       "      <td>0.988473</td>\n",
       "      <td>1.000000</td>\n",
       "      <td>-0.520783</td>\n",
       "      <td>-0.169103</td>\n",
       "    </tr>\n",
       "    <tr>\n",
       "      <th>CO</th>\n",
       "      <td>-0.088588</td>\n",
       "      <td>0.041614</td>\n",
       "      <td>0.165505</td>\n",
       "      <td>-0.334207</td>\n",
       "      <td>-0.508259</td>\n",
       "      <td>-0.688272</td>\n",
       "      <td>0.063404</td>\n",
       "      <td>-0.541751</td>\n",
       "      <td>-0.520783</td>\n",
       "      <td>1.000000</td>\n",
       "      <td>0.316743</td>\n",
       "    </tr>\n",
       "    <tr>\n",
       "      <th>NOX</th>\n",
       "      <td>-0.600006</td>\n",
       "      <td>0.256744</td>\n",
       "      <td>0.143061</td>\n",
       "      <td>-0.037299</td>\n",
       "      <td>-0.208496</td>\n",
       "      <td>-0.231636</td>\n",
       "      <td>0.009888</td>\n",
       "      <td>-0.102631</td>\n",
       "      <td>-0.169103</td>\n",
       "      <td>0.316743</td>\n",
       "      <td>1.000000</td>\n",
       "    </tr>\n",
       "  </tbody>\n",
       "</table>\n",
       "</div>"
      ],
      "text/plain": [
       "            AT        AP        AH      AFDP      GTEP       TIT       TAT  \\\n",
       "AT    1.000000 -0.412953 -0.549432 -0.099333 -0.049103  0.093067  0.338569   \n",
       "AP   -0.412953  1.000000  0.042573  0.040318  0.078575  0.029650 -0.223479   \n",
       "AH   -0.549432  0.042573  1.000000 -0.119249 -0.202784 -0.247781  0.010859   \n",
       "AFDP -0.099333  0.040318 -0.119249  1.000000  0.744251  0.627254 -0.571541   \n",
       "GTEP -0.049103  0.078575 -0.202784  0.744251  1.000000  0.874526 -0.756884   \n",
       "TIT   0.093067  0.029650 -0.247781  0.627254  0.874526  1.000000 -0.357320   \n",
       "TAT   0.338569 -0.223479  0.010859 -0.571541 -0.756884 -0.357320  1.000000   \n",
       "TEY  -0.207495  0.146939 -0.110272  0.717995  0.977042  0.891587 -0.720356   \n",
       "CDP  -0.100705  0.131198 -0.182010  0.727152  0.993784  0.887238 -0.744740   \n",
       "CO   -0.088588  0.041614  0.165505 -0.334207 -0.508259 -0.688272  0.063404   \n",
       "NOX  -0.600006  0.256744  0.143061 -0.037299 -0.208496 -0.231636  0.009888   \n",
       "\n",
       "           TEY       CDP        CO       NOX  \n",
       "AT   -0.207495 -0.100705 -0.088588 -0.600006  \n",
       "AP    0.146939  0.131198  0.041614  0.256744  \n",
       "AH   -0.110272 -0.182010  0.165505  0.143061  \n",
       "AFDP  0.717995  0.727152 -0.334207 -0.037299  \n",
       "GTEP  0.977042  0.993784 -0.508259 -0.208496  \n",
       "TIT   0.891587  0.887238 -0.688272 -0.231636  \n",
       "TAT  -0.720356 -0.744740  0.063404  0.009888  \n",
       "TEY   1.000000  0.988473 -0.541751 -0.102631  \n",
       "CDP   0.988473  1.000000 -0.520783 -0.169103  \n",
       "CO   -0.541751 -0.520783  1.000000  0.316743  \n",
       "NOX  -0.102631 -0.169103  0.316743  1.000000  "
      ]
     },
     "execution_count": 5,
     "metadata": {},
     "output_type": "execute_result"
    }
   ],
   "source": [
    "gt.corr()"
   ]
  },
  {
   "cell_type": "code",
   "execution_count": 6,
   "id": "e3292f37",
   "metadata": {},
   "outputs": [
    {
     "data": {
      "text/plain": [
       "AT      0\n",
       "AP      0\n",
       "AH      0\n",
       "AFDP    0\n",
       "GTEP    0\n",
       "TIT     0\n",
       "TAT     0\n",
       "TEY     0\n",
       "CDP     0\n",
       "CO      0\n",
       "NOX     0\n",
       "dtype: int64"
      ]
     },
     "execution_count": 6,
     "metadata": {},
     "output_type": "execute_result"
    }
   ],
   "source": [
    "gt.isna().sum()"
   ]
  },
  {
   "cell_type": "code",
   "execution_count": 7,
   "id": "eb17cd21",
   "metadata": {},
   "outputs": [
    {
     "data": {
      "text/plain": [
       "(15039, 11)"
      ]
     },
     "execution_count": 7,
     "metadata": {},
     "output_type": "execute_result"
    }
   ],
   "source": [
    "gt.shape"
   ]
  },
  {
   "cell_type": "code",
   "execution_count": 8,
   "id": "1a94abe9",
   "metadata": {},
   "outputs": [
    {
     "data": {
      "text/plain": [
       "Index(['AT', 'AP', 'AH', 'AFDP', 'GTEP', 'TIT', 'TAT', 'TEY', 'CDP', 'CO',\n",
       "       'NOX'],\n",
       "      dtype='object')"
      ]
     },
     "execution_count": 8,
     "metadata": {},
     "output_type": "execute_result"
    }
   ],
   "source": [
    "gt.columns"
   ]
  },
  {
   "cell_type": "code",
   "execution_count": 9,
   "id": "0f25d1fc",
   "metadata": {},
   "outputs": [],
   "source": [
    "y=gt.iloc[:,7]\n",
    "x=gt.drop(columns=('TEY'),axis=1)"
   ]
  },
  {
   "cell_type": "code",
   "execution_count": 10,
   "id": "da770620",
   "metadata": {},
   "outputs": [
    {
     "data": {
      "text/html": [
       "<div>\n",
       "<style scoped>\n",
       "    .dataframe tbody tr th:only-of-type {\n",
       "        vertical-align: middle;\n",
       "    }\n",
       "\n",
       "    .dataframe tbody tr th {\n",
       "        vertical-align: top;\n",
       "    }\n",
       "\n",
       "    .dataframe thead th {\n",
       "        text-align: right;\n",
       "    }\n",
       "</style>\n",
       "<table border=\"1\" class=\"dataframe\">\n",
       "  <thead>\n",
       "    <tr style=\"text-align: right;\">\n",
       "      <th></th>\n",
       "      <th>AT</th>\n",
       "      <th>AP</th>\n",
       "      <th>AH</th>\n",
       "      <th>AFDP</th>\n",
       "      <th>GTEP</th>\n",
       "      <th>TIT</th>\n",
       "      <th>TAT</th>\n",
       "      <th>CDP</th>\n",
       "      <th>CO</th>\n",
       "      <th>NOX</th>\n",
       "    </tr>\n",
       "  </thead>\n",
       "  <tbody>\n",
       "    <tr>\n",
       "      <th>0</th>\n",
       "      <td>6.8594</td>\n",
       "      <td>1007.9</td>\n",
       "      <td>96.799</td>\n",
       "      <td>3.5000</td>\n",
       "      <td>19.663</td>\n",
       "      <td>1059.2</td>\n",
       "      <td>550.00</td>\n",
       "      <td>10.605</td>\n",
       "      <td>3.1547</td>\n",
       "      <td>82.722</td>\n",
       "    </tr>\n",
       "    <tr>\n",
       "      <th>1</th>\n",
       "      <td>6.7850</td>\n",
       "      <td>1008.4</td>\n",
       "      <td>97.118</td>\n",
       "      <td>3.4998</td>\n",
       "      <td>19.728</td>\n",
       "      <td>1059.3</td>\n",
       "      <td>550.00</td>\n",
       "      <td>10.598</td>\n",
       "      <td>3.2363</td>\n",
       "      <td>82.776</td>\n",
       "    </tr>\n",
       "    <tr>\n",
       "      <th>2</th>\n",
       "      <td>6.8977</td>\n",
       "      <td>1008.8</td>\n",
       "      <td>95.939</td>\n",
       "      <td>3.4824</td>\n",
       "      <td>19.779</td>\n",
       "      <td>1059.4</td>\n",
       "      <td>549.87</td>\n",
       "      <td>10.601</td>\n",
       "      <td>3.2012</td>\n",
       "      <td>82.468</td>\n",
       "    </tr>\n",
       "    <tr>\n",
       "      <th>3</th>\n",
       "      <td>7.0569</td>\n",
       "      <td>1009.2</td>\n",
       "      <td>95.249</td>\n",
       "      <td>3.4805</td>\n",
       "      <td>19.792</td>\n",
       "      <td>1059.6</td>\n",
       "      <td>549.99</td>\n",
       "      <td>10.606</td>\n",
       "      <td>3.1923</td>\n",
       "      <td>82.670</td>\n",
       "    </tr>\n",
       "    <tr>\n",
       "      <th>4</th>\n",
       "      <td>7.3978</td>\n",
       "      <td>1009.7</td>\n",
       "      <td>95.150</td>\n",
       "      <td>3.4976</td>\n",
       "      <td>19.765</td>\n",
       "      <td>1059.7</td>\n",
       "      <td>549.98</td>\n",
       "      <td>10.612</td>\n",
       "      <td>3.2484</td>\n",
       "      <td>82.311</td>\n",
       "    </tr>\n",
       "    <tr>\n",
       "      <th>...</th>\n",
       "      <td>...</td>\n",
       "      <td>...</td>\n",
       "      <td>...</td>\n",
       "      <td>...</td>\n",
       "      <td>...</td>\n",
       "      <td>...</td>\n",
       "      <td>...</td>\n",
       "      <td>...</td>\n",
       "      <td>...</td>\n",
       "      <td>...</td>\n",
       "    </tr>\n",
       "    <tr>\n",
       "      <th>15034</th>\n",
       "      <td>9.0301</td>\n",
       "      <td>1005.6</td>\n",
       "      <td>98.460</td>\n",
       "      <td>3.5421</td>\n",
       "      <td>19.164</td>\n",
       "      <td>1049.7</td>\n",
       "      <td>546.21</td>\n",
       "      <td>10.400</td>\n",
       "      <td>4.5186</td>\n",
       "      <td>79.559</td>\n",
       "    </tr>\n",
       "    <tr>\n",
       "      <th>15035</th>\n",
       "      <td>7.8879</td>\n",
       "      <td>1005.9</td>\n",
       "      <td>99.093</td>\n",
       "      <td>3.5059</td>\n",
       "      <td>19.414</td>\n",
       "      <td>1046.3</td>\n",
       "      <td>543.22</td>\n",
       "      <td>10.433</td>\n",
       "      <td>4.8470</td>\n",
       "      <td>79.917</td>\n",
       "    </tr>\n",
       "    <tr>\n",
       "      <th>15036</th>\n",
       "      <td>7.2647</td>\n",
       "      <td>1006.3</td>\n",
       "      <td>99.496</td>\n",
       "      <td>3.4770</td>\n",
       "      <td>19.530</td>\n",
       "      <td>1037.7</td>\n",
       "      <td>537.32</td>\n",
       "      <td>10.483</td>\n",
       "      <td>7.9632</td>\n",
       "      <td>90.912</td>\n",
       "    </tr>\n",
       "    <tr>\n",
       "      <th>15037</th>\n",
       "      <td>7.0060</td>\n",
       "      <td>1006.8</td>\n",
       "      <td>99.008</td>\n",
       "      <td>3.4486</td>\n",
       "      <td>19.377</td>\n",
       "      <td>1043.2</td>\n",
       "      <td>541.24</td>\n",
       "      <td>10.533</td>\n",
       "      <td>6.2494</td>\n",
       "      <td>93.227</td>\n",
       "    </tr>\n",
       "    <tr>\n",
       "      <th>15038</th>\n",
       "      <td>6.9279</td>\n",
       "      <td>1007.2</td>\n",
       "      <td>97.533</td>\n",
       "      <td>3.4275</td>\n",
       "      <td>19.306</td>\n",
       "      <td>1049.9</td>\n",
       "      <td>545.85</td>\n",
       "      <td>10.583</td>\n",
       "      <td>4.9816</td>\n",
       "      <td>92.498</td>\n",
       "    </tr>\n",
       "  </tbody>\n",
       "</table>\n",
       "<p>15039 rows × 10 columns</p>\n",
       "</div>"
      ],
      "text/plain": [
       "           AT      AP      AH    AFDP    GTEP     TIT     TAT     CDP      CO  \\\n",
       "0      6.8594  1007.9  96.799  3.5000  19.663  1059.2  550.00  10.605  3.1547   \n",
       "1      6.7850  1008.4  97.118  3.4998  19.728  1059.3  550.00  10.598  3.2363   \n",
       "2      6.8977  1008.8  95.939  3.4824  19.779  1059.4  549.87  10.601  3.2012   \n",
       "3      7.0569  1009.2  95.249  3.4805  19.792  1059.6  549.99  10.606  3.1923   \n",
       "4      7.3978  1009.7  95.150  3.4976  19.765  1059.7  549.98  10.612  3.2484   \n",
       "...       ...     ...     ...     ...     ...     ...     ...     ...     ...   \n",
       "15034  9.0301  1005.6  98.460  3.5421  19.164  1049.7  546.21  10.400  4.5186   \n",
       "15035  7.8879  1005.9  99.093  3.5059  19.414  1046.3  543.22  10.433  4.8470   \n",
       "15036  7.2647  1006.3  99.496  3.4770  19.530  1037.7  537.32  10.483  7.9632   \n",
       "15037  7.0060  1006.8  99.008  3.4486  19.377  1043.2  541.24  10.533  6.2494   \n",
       "15038  6.9279  1007.2  97.533  3.4275  19.306  1049.9  545.85  10.583  4.9816   \n",
       "\n",
       "          NOX  \n",
       "0      82.722  \n",
       "1      82.776  \n",
       "2      82.468  \n",
       "3      82.670  \n",
       "4      82.311  \n",
       "...       ...  \n",
       "15034  79.559  \n",
       "15035  79.917  \n",
       "15036  90.912  \n",
       "15037  93.227  \n",
       "15038  92.498  \n",
       "\n",
       "[15039 rows x 10 columns]"
      ]
     },
     "execution_count": 10,
     "metadata": {},
     "output_type": "execute_result"
    }
   ],
   "source": [
    "x"
   ]
  },
  {
   "cell_type": "code",
   "execution_count": 11,
   "id": "f9b335a4",
   "metadata": {},
   "outputs": [
    {
     "data": {
      "text/plain": [
       "0        114.70\n",
       "1        114.72\n",
       "2        114.71\n",
       "3        114.72\n",
       "4        114.72\n",
       "          ...  \n",
       "15034    111.61\n",
       "15035    111.78\n",
       "15036    110.19\n",
       "15037    110.74\n",
       "15038    111.58\n",
       "Name: TEY, Length: 15039, dtype: float64"
      ]
     },
     "execution_count": 11,
     "metadata": {},
     "output_type": "execute_result"
    }
   ],
   "source": [
    "y"
   ]
  },
  {
   "cell_type": "markdown",
   "id": "8d41d4f7",
   "metadata": {},
   "source": [
    "# Splitting data into train and test"
   ]
  },
  {
   "cell_type": "code",
   "execution_count": 12,
   "id": "f41f3db4",
   "metadata": {},
   "outputs": [],
   "source": [
    "x_train,x_test,y_train,y_test=train_test_split(x,y,test_size=0.2,random_state=10)"
   ]
  },
  {
   "cell_type": "code",
   "execution_count": 13,
   "id": "9dd27a3f",
   "metadata": {},
   "outputs": [
    {
     "data": {
      "text/plain": [
       "(12031, 10)"
      ]
     },
     "execution_count": 13,
     "metadata": {},
     "output_type": "execute_result"
    }
   ],
   "source": [
    "x_train.shape"
   ]
  },
  {
   "cell_type": "code",
   "execution_count": 14,
   "id": "dcee7233",
   "metadata": {},
   "outputs": [
    {
     "data": {
      "text/plain": [
       "(12031,)"
      ]
     },
     "execution_count": 14,
     "metadata": {},
     "output_type": "execute_result"
    }
   ],
   "source": [
    "y_train.shape"
   ]
  },
  {
   "cell_type": "markdown",
   "id": "18a46305",
   "metadata": {},
   "source": [
    "# Creating a model"
   ]
  },
  {
   "cell_type": "code",
   "execution_count": 15,
   "id": "857e54b0",
   "metadata": {},
   "outputs": [],
   "source": [
    "import tensorflow as tf"
   ]
  },
  {
   "cell_type": "code",
   "execution_count": 16,
   "id": "4a47d4a0",
   "metadata": {},
   "outputs": [],
   "source": [
    "model1=tf.keras.models.Sequential()\n",
    "model1.add(tf.keras.layers.Dense(15,input_dim=10,activation='ReLU'))\n",
    "model1.add(tf.keras.layers.Dense(10,activation='ReLU'))\n",
    "model1.add(tf.keras.layers.Dense(1,activation='ReLU'))\n"
   ]
  },
  {
   "cell_type": "code",
   "execution_count": 17,
   "id": "7daec8a1",
   "metadata": {},
   "outputs": [
    {
     "name": "stdout",
     "output_type": "stream",
     "text": [
      "Model: \"sequential\"\n",
      "_________________________________________________________________\n",
      " Layer (type)                Output Shape              Param #   \n",
      "=================================================================\n",
      " dense (Dense)               (None, 15)                165       \n",
      "                                                                 \n",
      " dense_1 (Dense)             (None, 10)                160       \n",
      "                                                                 \n",
      " dense_2 (Dense)             (None, 1)                 11        \n",
      "                                                                 \n",
      "=================================================================\n",
      "Total params: 336\n",
      "Trainable params: 336\n",
      "Non-trainable params: 0\n",
      "_________________________________________________________________\n"
     ]
    }
   ],
   "source": [
    "model1.summary()"
   ]
  },
  {
   "cell_type": "code",
   "execution_count": 18,
   "id": "fa936007",
   "metadata": {},
   "outputs": [],
   "source": [
    "# compiling a model\n",
    "model1.compile(loss='mse',optimizer='adam',metrics=['mse','mae'])"
   ]
  },
  {
   "cell_type": "code",
   "execution_count": 19,
   "id": "46c5618a",
   "metadata": {},
   "outputs": [
    {
     "name": "stdout",
     "output_type": "stream",
     "text": [
      "Epoch 1/50\n",
      "121/121 [==============================] - 1s 2ms/step - loss: 18278.8945 - mse: 18278.8926 - mae: 134.2709 - val_loss: 18169.9980 - val_mse: 18169.9980 - val_mae: 133.8587\n",
      "Epoch 2/50\n",
      "121/121 [==============================] - 0s 2ms/step - loss: 18278.8887 - mse: 18278.8887 - mae: 134.2709 - val_loss: 18169.9980 - val_mse: 18169.9980 - val_mae: 133.8587\n",
      "Epoch 3/50\n",
      "121/121 [==============================] - 0s 2ms/step - loss: 18278.8828 - mse: 18278.8828 - mae: 134.2709 - val_loss: 18169.9980 - val_mse: 18169.9980 - val_mae: 133.8587\n",
      "Epoch 4/50\n",
      "121/121 [==============================] - 0s 2ms/step - loss: 18278.8828 - mse: 18278.8828 - mae: 134.2709 - val_loss: 18169.9980 - val_mse: 18169.9980 - val_mae: 133.8587\n",
      "Epoch 5/50\n",
      "121/121 [==============================] - 0s 1ms/step - loss: 18278.8828 - mse: 18278.8828 - mae: 134.2709 - val_loss: 18169.9980 - val_mse: 18169.9980 - val_mae: 133.8587\n",
      "Epoch 6/50\n",
      "121/121 [==============================] - 0s 1ms/step - loss: 18278.8867 - mse: 18278.8867 - mae: 134.2709 - val_loss: 18169.9980 - val_mse: 18169.9980 - val_mae: 133.8587\n",
      "Epoch 7/50\n",
      "121/121 [==============================] - 0s 1ms/step - loss: 18278.8906 - mse: 18278.8906 - mae: 134.2709 - val_loss: 18169.9980 - val_mse: 18169.9980 - val_mae: 133.8587\n",
      "Epoch 8/50\n",
      "121/121 [==============================] - 0s 1ms/step - loss: 18278.8828 - mse: 18278.8828 - mae: 134.2709 - val_loss: 18169.9980 - val_mse: 18169.9980 - val_mae: 133.8587\n",
      "Epoch 9/50\n",
      "121/121 [==============================] - 0s 1ms/step - loss: 18278.8867 - mse: 18278.8867 - mae: 134.2709 - val_loss: 18169.9980 - val_mse: 18169.9980 - val_mae: 133.8587\n",
      "Epoch 10/50\n",
      "121/121 [==============================] - 0s 1ms/step - loss: 18278.8867 - mse: 18278.8867 - mae: 134.2709 - val_loss: 18169.9980 - val_mse: 18169.9980 - val_mae: 133.8587\n",
      "Epoch 11/50\n",
      "121/121 [==============================] - 0s 1ms/step - loss: 18278.8867 - mse: 18278.8867 - mae: 134.2709 - val_loss: 18169.9980 - val_mse: 18169.9980 - val_mae: 133.8587\n",
      "Epoch 12/50\n",
      "121/121 [==============================] - 0s 2ms/step - loss: 18278.8867 - mse: 18278.8867 - mae: 134.2709 - val_loss: 18169.9980 - val_mse: 18169.9980 - val_mae: 133.8587\n",
      "Epoch 13/50\n",
      "121/121 [==============================] - 0s 1ms/step - loss: 18278.8867 - mse: 18278.8887 - mae: 134.2709 - val_loss: 18169.9980 - val_mse: 18169.9980 - val_mae: 133.8587\n",
      "Epoch 14/50\n",
      "121/121 [==============================] - 0s 3ms/step - loss: 18278.8828 - mse: 18278.8828 - mae: 134.2709 - val_loss: 18169.9980 - val_mse: 18169.9980 - val_mae: 133.8587\n",
      "Epoch 15/50\n",
      "121/121 [==============================] - 0s 3ms/step - loss: 18278.8887 - mse: 18278.8887 - mae: 134.2709 - val_loss: 18169.9980 - val_mse: 18169.9980 - val_mae: 133.8587\n",
      "Epoch 16/50\n",
      "121/121 [==============================] - 0s 3ms/step - loss: 18278.8867 - mse: 18278.8867 - mae: 134.2709 - val_loss: 18169.9980 - val_mse: 18169.9980 - val_mae: 133.8587\n",
      "Epoch 17/50\n",
      "121/121 [==============================] - 0s 3ms/step - loss: 18278.8867 - mse: 18278.8867 - mae: 134.2709 - val_loss: 18169.9980 - val_mse: 18169.9980 - val_mae: 133.8587\n",
      "Epoch 18/50\n",
      "121/121 [==============================] - 0s 3ms/step - loss: 18278.8848 - mse: 18278.8848 - mae: 134.2710 - val_loss: 18169.9980 - val_mse: 18169.9980 - val_mae: 133.8587\n",
      "Epoch 19/50\n",
      "121/121 [==============================] - 0s 3ms/step - loss: 18278.8848 - mse: 18278.8828 - mae: 134.2709 - val_loss: 18169.9980 - val_mse: 18169.9980 - val_mae: 133.8587\n",
      "Epoch 20/50\n",
      "121/121 [==============================] - 0s 3ms/step - loss: 18278.8809 - mse: 18278.8789 - mae: 134.2709 - val_loss: 18169.9980 - val_mse: 18169.9980 - val_mae: 133.8587\n",
      "Epoch 21/50\n",
      "121/121 [==============================] - 0s 3ms/step - loss: 18278.8867 - mse: 18278.8867 - mae: 134.2710 - val_loss: 18169.9980 - val_mse: 18169.9980 - val_mae: 133.8587\n",
      "Epoch 22/50\n",
      "121/121 [==============================] - 0s 3ms/step - loss: 18278.8848 - mse: 18278.8848 - mae: 134.2710 - val_loss: 18169.9980 - val_mse: 18169.9980 - val_mae: 133.8587\n",
      "Epoch 23/50\n",
      "121/121 [==============================] - 0s 3ms/step - loss: 18278.8848 - mse: 18278.8848 - mae: 134.2709 - val_loss: 18169.9980 - val_mse: 18169.9980 - val_mae: 133.8587\n",
      "Epoch 24/50\n",
      "121/121 [==============================] - 0s 3ms/step - loss: 18278.8828 - mse: 18278.8848 - mae: 134.2709 - val_loss: 18169.9980 - val_mse: 18169.9980 - val_mae: 133.8587\n",
      "Epoch 25/50\n",
      "121/121 [==============================] - 0s 3ms/step - loss: 18278.8867 - mse: 18278.8867 - mae: 134.2709 - val_loss: 18169.9980 - val_mse: 18169.9980 - val_mae: 133.8587\n",
      "Epoch 26/50\n",
      "121/121 [==============================] - 0s 3ms/step - loss: 18278.8887 - mse: 18278.8867 - mae: 134.2709 - val_loss: 18169.9980 - val_mse: 18169.9980 - val_mae: 133.8587\n",
      "Epoch 27/50\n",
      "121/121 [==============================] - 0s 3ms/step - loss: 18278.8867 - mse: 18278.8867 - mae: 134.2709 - val_loss: 18169.9980 - val_mse: 18169.9980 - val_mae: 133.8587\n",
      "Epoch 28/50\n",
      "121/121 [==============================] - 0s 3ms/step - loss: 18278.8848 - mse: 18278.8848 - mae: 134.2709 - val_loss: 18169.9980 - val_mse: 18169.9980 - val_mae: 133.8587\n",
      "Epoch 29/50\n",
      "121/121 [==============================] - 0s 3ms/step - loss: 18278.8828 - mse: 18278.8828 - mae: 134.2709 - val_loss: 18169.9980 - val_mse: 18169.9980 - val_mae: 133.8587\n",
      "Epoch 30/50\n",
      "121/121 [==============================] - 0s 3ms/step - loss: 18278.8926 - mse: 18278.8926 - mae: 134.2709 - val_loss: 18169.9980 - val_mse: 18169.9980 - val_mae: 133.8587\n",
      "Epoch 31/50\n",
      "121/121 [==============================] - 0s 3ms/step - loss: 18278.8828 - mse: 18278.8828 - mae: 134.2709 - val_loss: 18169.9980 - val_mse: 18169.9980 - val_mae: 133.8587\n",
      "Epoch 32/50\n",
      "121/121 [==============================] - 0s 3ms/step - loss: 18278.8867 - mse: 18278.8867 - mae: 134.2710 - val_loss: 18169.9980 - val_mse: 18169.9980 - val_mae: 133.8587\n",
      "Epoch 33/50\n",
      "121/121 [==============================] - 0s 3ms/step - loss: 18278.8828 - mse: 18278.8828 - mae: 134.2709 - val_loss: 18169.9980 - val_mse: 18169.9980 - val_mae: 133.8587\n",
      "Epoch 34/50\n",
      "121/121 [==============================] - 0s 3ms/step - loss: 18278.8848 - mse: 18278.8848 - mae: 134.2710 - val_loss: 18169.9980 - val_mse: 18169.9980 - val_mae: 133.8587\n",
      "Epoch 35/50\n",
      "121/121 [==============================] - 0s 3ms/step - loss: 18278.8867 - mse: 18278.8867 - mae: 134.2709 - val_loss: 18169.9980 - val_mse: 18169.9980 - val_mae: 133.8587\n",
      "Epoch 36/50\n",
      "121/121 [==============================] - 0s 3ms/step - loss: 18278.8867 - mse: 18278.8867 - mae: 134.2709 - val_loss: 18169.9980 - val_mse: 18169.9980 - val_mae: 133.8587\n",
      "Epoch 37/50\n",
      "121/121 [==============================] - 0s 3ms/step - loss: 18278.8809 - mse: 18278.8828 - mae: 134.2709 - val_loss: 18169.9980 - val_mse: 18169.9980 - val_mae: 133.8587\n",
      "Epoch 38/50\n",
      "121/121 [==============================] - 0s 3ms/step - loss: 18278.8828 - mse: 18278.8828 - mae: 134.2709 - val_loss: 18169.9980 - val_mse: 18169.9980 - val_mae: 133.8587\n",
      "Epoch 39/50\n",
      "121/121 [==============================] - 0s 3ms/step - loss: 18278.8887 - mse: 18278.8906 - mae: 134.2710 - val_loss: 18169.9980 - val_mse: 18169.9980 - val_mae: 133.8587\n",
      "Epoch 40/50\n",
      "121/121 [==============================] - 0s 4ms/step - loss: 18278.8828 - mse: 18278.8828 - mae: 134.2710 - val_loss: 18169.9980 - val_mse: 18169.9980 - val_mae: 133.8587\n",
      "Epoch 41/50\n",
      "121/121 [==============================] - 0s 4ms/step - loss: 18278.8867 - mse: 18278.8867 - mae: 134.2710 - val_loss: 18169.9980 - val_mse: 18169.9980 - val_mae: 133.8587\n",
      "Epoch 42/50\n",
      "121/121 [==============================] - 0s 3ms/step - loss: 18278.8828 - mse: 18278.8828 - mae: 134.2709 - val_loss: 18169.9980 - val_mse: 18169.9980 - val_mae: 133.8587\n",
      "Epoch 43/50\n",
      "121/121 [==============================] - 0s 3ms/step - loss: 18278.8887 - mse: 18278.8887 - mae: 134.2709 - val_loss: 18169.9980 - val_mse: 18169.9980 - val_mae: 133.8587\n",
      "Epoch 44/50\n",
      "121/121 [==============================] - 0s 3ms/step - loss: 18278.8848 - mse: 18278.8848 - mae: 134.2709 - val_loss: 18169.9980 - val_mse: 18169.9980 - val_mae: 133.8587\n",
      "Epoch 45/50\n",
      "121/121 [==============================] - 0s 4ms/step - loss: 18278.8867 - mse: 18278.8867 - mae: 134.2709 - val_loss: 18169.9980 - val_mse: 18169.9980 - val_mae: 133.8587\n",
      "Epoch 46/50\n",
      "121/121 [==============================] - 0s 3ms/step - loss: 18278.8809 - mse: 18278.8809 - mae: 134.2709 - val_loss: 18169.9980 - val_mse: 18169.9980 - val_mae: 133.8587\n",
      "Epoch 47/50\n",
      "121/121 [==============================] - 0s 3ms/step - loss: 18278.8906 - mse: 18278.8906 - mae: 134.2709 - val_loss: 18169.9980 - val_mse: 18169.9980 - val_mae: 133.8587\n",
      "Epoch 48/50\n",
      "121/121 [==============================] - 0s 3ms/step - loss: 18278.8848 - mse: 18278.8848 - mae: 134.2709 - val_loss: 18169.9980 - val_mse: 18169.9980 - val_mae: 133.8587\n",
      "Epoch 49/50\n",
      "121/121 [==============================] - 0s 3ms/step - loss: 18278.8809 - mse: 18278.8809 - mae: 134.2709 - val_loss: 18169.9980 - val_mse: 18169.9980 - val_mae: 133.8587\n",
      "Epoch 50/50\n",
      "121/121 [==============================] - 0s 3ms/step - loss: 18278.8867 - mse: 18278.8867 - mae: 134.2709 - val_loss: 18169.9980 - val_mse: 18169.9980 - val_mae: 133.8587\n"
     ]
    }
   ],
   "source": [
    "# fitting a model\n",
    "history=model1.fit(x_train,y_train,validation_data=(x_test,y_test),epochs=50,batch_size=100)"
   ]
  },
  {
   "cell_type": "code",
   "execution_count": 20,
   "id": "4ffaefa7",
   "metadata": {},
   "outputs": [],
   "source": [
    "model1.save_weights(\"mywt.kmw\")"
   ]
  },
  {
   "cell_type": "code",
   "execution_count": 21,
   "id": "78349fba",
   "metadata": {},
   "outputs": [
    {
     "name": "stdout",
     "output_type": "stream",
     "text": [
      "376/376 [==============================] - 1s 2ms/step - loss: 18278.8887 - mse: 18278.8887 - mae: 134.2709\n",
      "mse: 1827888.87%\n"
     ]
    }
   ],
   "source": [
    "score=model1.evaluate(x_train,y_train)\n",
    "print(\"%s: %.2f%%\" %(model1.metrics_names[1],score[1]*100))"
   ]
  },
  {
   "cell_type": "markdown",
   "id": "6fc8d9f0",
   "metadata": {},
   "source": [
    "# Visualize the training history"
   ]
  },
  {
   "cell_type": "code",
   "execution_count": 22,
   "id": "374928d4",
   "metadata": {},
   "outputs": [
    {
     "data": {
      "image/png": "[encoded data removed]",
      "text/plain": [
       "<Figure size 640x480 with 1 Axes>"
      ]
     },
     "metadata": {},
     "output_type": "display_data"
    }
   ],
   "source": [
    "# summarize history for accuracy\n",
    "plt.plot(history.history['mse'])\n",
    "plt.plot(history.history['val_mse'])\n",
    "plt.xlabel('epoch')\n",
    "plt.ylabel('mse')\n",
    "plt.title('model mse')\n",
    "plt.legend(['train','test'],loc='upper center')\n",
    "plt.show()"
   ]
  },
  {
   "cell_type": "code",
   "execution_count": 23,
   "id": "f2b9595e",
   "metadata": {},
   "outputs": [
    {
     "data": {
      "image/png": "[encoded data removed]",
      "text/plain": [
       "<Figure size 640x480 with 1 Axes>"
      ]
     },
     "metadata": {},
     "output_type": "display_data"
    }
   ],
   "source": [
    "plt.plot(history.history['mae'])\n",
    "plt.plot(history.history['val_mae'])\n",
    "plt.title('model mae')\n",
    "plt.ylabel('mae')\n",
    "plt.xlabel('epoch')\n",
    "plt.legend(['train', 'test'], loc='upper left')\n",
    "plt.show()"
   ]
  },
  {
   "cell_type": "code",
   "execution_count": 24,
   "id": "e23129c8",
   "metadata": {},
   "outputs": [
    {
     "data": {
      "image/png": "[encoded data removed]",
      "text/plain": [
       "<Figure size 640x480 with 1 Axes>"
      ]
     },
     "metadata": {},
     "output_type": "display_data"
    }
   ],
   "source": [
    "# summarize history for loss\n",
    "plt.plot(history.history['loss'])\n",
    "plt.plot(history.history['val_mse'])\n",
    "plt.xlabel('epoch')\n",
    "plt.ylabel('loss')\n",
    "plt.title('model loss')\n",
    "plt.legend(['train','test'],loc='upper center')\n",
    "plt.show()"
   ]
  },
  {
   "cell_type": "markdown",
   "id": "6c291d60",
   "metadata": {},
   "source": [
    "# Evaluate the model"
   ]
  },
  {
   "cell_type": "code",
   "execution_count": 25,
   "id": "45408305",
   "metadata": {},
   "outputs": [
    {
     "name": "stdout",
     "output_type": "stream",
     "text": [
      "376/376 [==============================] - 1s 2ms/step\n",
      "94/94 [==============================] - 0s 2ms/step\n",
      "Training set rmse: 135.199, Testing set rmse: 134.796\n"
     ]
    }
   ],
   "source": [
    "y_train_pred=model1.predict(x_train)\n",
    "y_test_pred=model1.predict(x_test)\n",
    "train_rmse=mean_squared_error(y_train,y_train_pred,squared=False)\n",
    "test_rmse=mean_squared_error(y_test,y_test_pred,squared=False)\n",
    "print('Training set rmse: %.3f, Testing set rmse: %.3f' %(train_rmse,test_rmse))"
   ]
  },
  {
   "cell_type": "markdown",
   "id": "184619c2",
   "metadata": {},
   "source": [
    "# Hyperparameter Tuning using Randomized seaach CV"
   ]
  },
  {
   "cell_type": "code",
   "execution_count": 26,
   "id": "7e121027",
   "metadata": {},
   "outputs": [],
   "source": [
    "from sklearn.model_selection import RandomizedSearchCV,KFold\n",
    "from keras.optimizers import Adam\n",
    "from keras.wrappers.scikit_learn import KerasRegressor"
   ]
  },
  {
   "cell_type": "code",
   "execution_count": 27,
   "id": "cd8a0f33",
   "metadata": {},
   "outputs": [],
   "source": [
    "def keras_reg_model2(learning_rate,activation_function,init,neuron1,neuron2):\n",
    "    model2=tf.keras.models.Sequential()\n",
    "    model2.add(tf.keras.layers.Dense(neuron1,input_dim=10,kernel_initializer=init,activation=activation_function))\n",
    "    model2.add(tf.keras.layers.Dense(neuron2,input_dim=neuron1,kernel_initializer=init,activation=activation_function))\n",
    "    model2.add(tf.keras.layers.Dense(1,activation='linear'))\n",
    "    adam=Adam(lr=learning_rate)\n",
    "    model2.compile(loss='mse',optimizer=adam,metrics=['mse','mae'])\n",
    "    return model2"
   ]
  },
  {
   "cell_type": "code",
   "execution_count": 28,
   "id": "5fbd285c",
   "metadata": {},
   "outputs": [],
   "source": [
    "keras_reg=KerasRegressor(build_fn=keras_reg_model2,verbose=0)"
   ]
  },
  {
   "cell_type": "code",
   "execution_count": 29,
   "id": "035246d5",
   "metadata": {},
   "outputs": [
    {
     "name": "stdout",
     "output_type": "stream",
     "text": [
      "Fitting 5 folds for each of 10 candidates, totalling 50 fits\n"
     ]
    }
   ],
   "source": [
    "# Define the search parameters\n",
    "\n",
    "batch_size=[10,50,100,500,1000,2000]\n",
    "epochs=[25,50,80,100,150]\n",
    "learning_rate=[0.001,0.01,0.1]\n",
    "activation_function=['elu','ReLU','linear']\n",
    "init=['uniform','normal','zero']\n",
    "neuron1=[5,10,20,30]\n",
    "neuron2=[5,10,20,30]\n",
    "param_grids=dict(batch_size=batch_size,epochs=epochs,learning_rate=learning_rate,activation_function=activation_function,init=init,neuron1=neuron1,neuron2=neuron2)\n",
    "random_search=RandomizedSearchCV(estimator=keras_reg,param_distributions=param_grids,cv=5,n_jobs=-1,verbose=10,random_state=35)\n",
    "random_result=random_search.fit(x_train,y_train)"
   ]
  },
  {
   "cell_type": "code",
   "execution_count": 30,
   "id": "bd5e67e9",
   "metadata": {},
   "outputs": [
    {
     "name": "stdout",
     "output_type": "stream",
     "text": [
      "Best score: -2.4571964740753174\n",
      "Best parameters: {'neuron2': 30, 'neuron1': 10, 'learning_rate': 0.01, 'init': 'normal', 'epochs': 100, 'batch_size': 10, 'activation_function': 'linear'}\n"
     ]
    }
   ],
   "source": [
    "# Summerise the results\n",
    "\n",
    "print('Best score:',random_result.best_score_)\n",
    "print('Best parameters:',random_result.best_params_)"
   ]
  },
  {
   "cell_type": "code",
   "execution_count": 31,
   "id": "9a4e95b3",
   "metadata": {},
   "outputs": [
    {
     "name": "stdout",
     "output_type": "stream",
     "text": [
      "Epoch 1/100\n",
      "1204/1204 [==============================] - 3s 2ms/step - loss: 95.6158 - mse: 95.6158 - mae: 5.5055 - val_loss: 29.1542 - val_mse: 29.1542 - val_mae: 5.1882\n",
      "Epoch 2/100\n",
      "1204/1204 [==============================] - 3s 2ms/step - loss: 7.8910 - mse: 7.8910 - mae: 2.2194 - val_loss: 35.9336 - val_mse: 35.9336 - val_mae: 5.8605\n",
      "Epoch 3/100\n",
      "1204/1204 [==============================] - 3s 2ms/step - loss: 7.4448 - mse: 7.4448 - mae: 2.1743 - val_loss: 3.7080 - val_mse: 3.7080 - val_mae: 1.5648\n",
      "Epoch 4/100\n",
      "1204/1204 [==============================] - 3s 2ms/step - loss: 8.0896 - mse: 8.0896 - mae: 2.2479 - val_loss: 26.7468 - val_mse: 26.7468 - val_mae: 5.0210\n",
      "Epoch 5/100\n",
      "1204/1204 [==============================] - 2s 2ms/step - loss: 5.7215 - mse: 5.7215 - mae: 1.9096 - val_loss: 1.8690 - val_mse: 1.8690 - val_mae: 1.0651\n",
      "Epoch 6/100\n",
      "1204/1204 [==============================] - 2s 2ms/step - loss: 5.6544 - mse: 5.6544 - mae: 1.8893 - val_loss: 1.9113 - val_mse: 1.9113 - val_mae: 1.1233\n",
      "Epoch 7/100\n",
      "1204/1204 [==============================] - 2s 2ms/step - loss: 5.8381 - mse: 5.8381 - mae: 1.9059 - val_loss: 3.3000 - val_mse: 3.3000 - val_mae: 1.5318\n",
      "Epoch 8/100\n",
      "1204/1204 [==============================] - 3s 2ms/step - loss: 10.6292 - mse: 10.6292 - mae: 2.0447 - val_loss: 6.4525 - val_mse: 6.4525 - val_mae: 2.2851\n",
      "Epoch 9/100\n",
      "1204/1204 [==============================] - 3s 2ms/step - loss: 4.1079 - mse: 4.1079 - mae: 1.6141 - val_loss: 1.6767 - val_mse: 1.6767 - val_mae: 1.0335\n",
      "Epoch 10/100\n",
      "1204/1204 [==============================] - 3s 2ms/step - loss: 4.4682 - mse: 4.4682 - mae: 1.6579 - val_loss: 10.3785 - val_mse: 10.3785 - val_mae: 2.9434\n",
      "Epoch 11/100\n",
      "1204/1204 [==============================] - 3s 2ms/step - loss: 5.3780 - mse: 5.3780 - mae: 1.8190 - val_loss: 20.5306 - val_mse: 20.5306 - val_mae: 4.3713\n",
      "Epoch 12/100\n",
      "1204/1204 [==============================] - 3s 2ms/step - loss: 4.2299 - mse: 4.2299 - mae: 1.5947 - val_loss: 2.9960 - val_mse: 2.9960 - val_mae: 1.4648\n",
      "Epoch 13/100\n",
      "1204/1204 [==============================] - 3s 2ms/step - loss: 18.0509 - mse: 18.0509 - mae: 2.0856 - val_loss: 5.4040 - val_mse: 5.4040 - val_mae: 2.0690\n",
      "Epoch 14/100\n",
      "1204/1204 [==============================] - 3s 2ms/step - loss: 2.7760 - mse: 2.7760 - mae: 1.3113 - val_loss: 1.8365 - val_mse: 1.8365 - val_mae: 1.0812\n",
      "Epoch 15/100\n",
      "1204/1204 [==============================] - 3s 2ms/step - loss: 3.2404 - mse: 3.2404 - mae: 1.4209 - val_loss: 3.6915 - val_mse: 3.6915 - val_mae: 1.6436\n",
      "Epoch 16/100\n",
      "1204/1204 [==============================] - 3s 2ms/step - loss: 4.4210 - mse: 4.4210 - mae: 1.6653 - val_loss: 1.3392 - val_mse: 1.3392 - val_mae: 0.8971\n",
      "Epoch 17/100\n",
      "1204/1204 [==============================] - 3s 2ms/step - loss: 4.1458 - mse: 4.1458 - mae: 1.5930 - val_loss: 1.7633 - val_mse: 1.7633 - val_mae: 1.0847\n",
      "Epoch 18/100\n",
      "1204/1204 [==============================] - 3s 2ms/step - loss: 4.0670 - mse: 4.0670 - mae: 1.5744 - val_loss: 6.2275 - val_mse: 6.2275 - val_mae: 2.2581\n",
      "Epoch 19/100\n",
      "1204/1204 [==============================] - 3s 2ms/step - loss: 3.8850 - mse: 3.8850 - mae: 1.5652 - val_loss: 7.1486 - val_mse: 7.1486 - val_mae: 2.4517\n",
      "Epoch 20/100\n",
      "1204/1204 [==============================] - 2s 2ms/step - loss: 3.7109 - mse: 3.7109 - mae: 1.5263 - val_loss: 7.2822 - val_mse: 7.2822 - val_mae: 2.4728\n",
      "Epoch 21/100\n",
      "1204/1204 [==============================] - 3s 2ms/step - loss: 48.6955 - mse: 48.6955 - mae: 2.2533 - val_loss: 1.2237 - val_mse: 1.2237 - val_mae: 0.8549\n",
      "Epoch 22/100\n",
      "1204/1204 [==============================] - 3s 2ms/step - loss: 2.1786 - mse: 2.1786 - mae: 1.1596 - val_loss: 1.2153 - val_mse: 1.2153 - val_mae: 0.8434\n",
      "Epoch 23/100\n",
      "1204/1204 [==============================] - 2s 2ms/step - loss: 3.0291 - mse: 3.0291 - mae: 1.3674 - val_loss: 5.2998 - val_mse: 5.2998 - val_mae: 2.0671\n",
      "Epoch 24/100\n",
      "1204/1204 [==============================] - 3s 2ms/step - loss: 3.2029 - mse: 3.2029 - mae: 1.4225 - val_loss: 1.6821 - val_mse: 1.6821 - val_mae: 1.0029\n",
      "Epoch 25/100\n",
      "1204/1204 [==============================] - 3s 2ms/step - loss: 3.2514 - mse: 3.2514 - mae: 1.4225 - val_loss: 1.2051 - val_mse: 1.2051 - val_mae: 0.8391\n",
      "Epoch 26/100\n",
      "1204/1204 [==============================] - 3s 2ms/step - loss: 3.5674 - mse: 3.5674 - mae: 1.4866 - val_loss: 2.8667 - val_mse: 2.8667 - val_mae: 1.3402\n",
      "Epoch 27/100\n",
      "1204/1204 [==============================] - 3s 2ms/step - loss: 3.4027 - mse: 3.4027 - mae: 1.4539 - val_loss: 12.8544 - val_mse: 12.8544 - val_mae: 3.4164\n",
      "Epoch 28/100\n",
      "1204/1204 [==============================] - 2s 2ms/step - loss: 3.7389 - mse: 3.7389 - mae: 1.5348 - val_loss: 3.1493 - val_mse: 3.1493 - val_mae: 1.4790\n",
      "Epoch 29/100\n",
      "1204/1204 [==============================] - 3s 2ms/step - loss: 3.4168 - mse: 3.4168 - mae: 1.4527 - val_loss: 1.3217 - val_mse: 1.3217 - val_mae: 0.8965\n",
      "Epoch 30/100\n",
      "1204/1204 [==============================] - 3s 2ms/step - loss: 7.6570 - mse: 7.6570 - mae: 1.6533 - val_loss: 1.1996 - val_mse: 1.1996 - val_mae: 0.8410\n",
      "Epoch 31/100\n",
      "1204/1204 [==============================] - 3s 2ms/step - loss: 2.4858 - mse: 2.4858 - mae: 1.2483 - val_loss: 1.2385 - val_mse: 1.2385 - val_mae: 0.8445\n",
      "Epoch 32/100\n",
      "1204/1204 [==============================] - 3s 2ms/step - loss: 2.9891 - mse: 2.9891 - mae: 1.3589 - val_loss: 9.3575 - val_mse: 9.3575 - val_mae: 2.8487\n",
      "Epoch 33/100\n",
      "1204/1204 [==============================] - 3s 2ms/step - loss: 2.8624 - mse: 2.8624 - mae: 1.3350 - val_loss: 7.7862 - val_mse: 7.7862 - val_mae: 2.5552\n",
      "Epoch 34/100\n",
      "1204/1204 [==============================] - 3s 2ms/step - loss: 3.0752 - mse: 3.0752 - mae: 1.3837 - val_loss: 2.0712 - val_mse: 2.0712 - val_mae: 1.1334\n",
      "Epoch 35/100\n",
      "1204/1204 [==============================] - 3s 2ms/step - loss: 3.1396 - mse: 3.1396 - mae: 1.4044 - val_loss: 5.0033 - val_mse: 5.0033 - val_mae: 1.9702\n",
      "Epoch 36/100\n",
      "1204/1204 [==============================] - 3s 2ms/step - loss: 16.9599 - mse: 16.9599 - mae: 1.7173 - val_loss: 4.4288 - val_mse: 4.4288 - val_mae: 1.8750\n",
      "Epoch 37/100\n",
      "1204/1204 [==============================] - 3s 2ms/step - loss: 2.3705 - mse: 2.3705 - mae: 1.2090 - val_loss: 9.4675 - val_mse: 9.4675 - val_mae: 2.8920\n",
      "Epoch 38/100\n",
      "1204/1204 [==============================] - 3s 2ms/step - loss: 3.0505 - mse: 3.0505 - mae: 1.3744 - val_loss: 6.1409 - val_mse: 6.1409 - val_mae: 2.1863\n",
      "Epoch 39/100\n",
      "1204/1204 [==============================] - 3s 2ms/step - loss: 3.3201 - mse: 3.3201 - mae: 1.3956 - val_loss: 1.2288 - val_mse: 1.2288 - val_mae: 0.8559\n",
      "Epoch 40/100\n",
      "1204/1204 [==============================] - 2s 2ms/step - loss: 2.8822 - mse: 2.8822 - mae: 1.3339 - val_loss: 3.3711 - val_mse: 3.3711 - val_mae: 1.5971\n",
      "Epoch 41/100\n",
      "1204/1204 [==============================] - 3s 2ms/step - loss: 2.9047 - mse: 2.9047 - mae: 1.3380 - val_loss: 12.7521 - val_mse: 12.7521 - val_mae: 3.4005\n",
      "Epoch 42/100\n",
      "1204/1204 [==============================] - 3s 2ms/step - loss: 20.1253 - mse: 20.1253 - mae: 1.9438 - val_loss: 2.7625 - val_mse: 2.7625 - val_mae: 1.3958\n",
      "Epoch 43/100\n",
      "1204/1204 [==============================] - 3s 2ms/step - loss: 1.7342 - mse: 1.7342 - mae: 1.0269 - val_loss: 1.2764 - val_mse: 1.2764 - val_mae: 0.8629\n",
      "Epoch 44/100\n",
      "1204/1204 [==============================] - 3s 2ms/step - loss: 2.1403 - mse: 2.1403 - mae: 1.1407 - val_loss: 1.8254 - val_mse: 1.8254 - val_mae: 1.0990\n",
      "Epoch 45/100\n",
      "1204/1204 [==============================] - 3s 2ms/step - loss: 2.6415 - mse: 2.6415 - mae: 1.2818 - val_loss: 1.2496 - val_mse: 1.2496 - val_mae: 0.8559\n",
      "Epoch 46/100\n",
      "1204/1204 [==============================] - 3s 2ms/step - loss: 2.6654 - mse: 2.6654 - mae: 1.2778 - val_loss: 7.0060 - val_mse: 7.0060 - val_mae: 2.4383\n",
      "Epoch 47/100\n",
      "1204/1204 [==============================] - 3s 2ms/step - loss: 3.0125 - mse: 3.0125 - mae: 1.3809 - val_loss: 2.9124 - val_mse: 2.9124 - val_mae: 1.4288\n",
      "Epoch 48/100\n",
      "1204/1204 [==============================] - 3s 2ms/step - loss: 46.8769 - mse: 46.8769 - mae: 2.2576 - val_loss: 1.3885 - val_mse: 1.3885 - val_mae: 0.8962\n",
      "Epoch 49/100\n",
      "1204/1204 [==============================] - 3s 2ms/step - loss: 1.5000 - mse: 1.5000 - mae: 0.9515 - val_loss: 1.5865 - val_mse: 1.5865 - val_mae: 0.9991\n"
     ]
    },
    {
     "name": "stdout",
     "output_type": "stream",
     "text": [
      "Epoch 50/100\n",
      "1204/1204 [==============================] - 3s 2ms/step - loss: 1.9377 - mse: 1.9377 - mae: 1.0883 - val_loss: 1.5153 - val_mse: 1.5153 - val_mae: 0.9465\n",
      "Epoch 51/100\n",
      "1204/1204 [==============================] - 3s 2ms/step - loss: 2.0954 - mse: 2.0954 - mae: 1.1337 - val_loss: 4.6890 - val_mse: 4.6890 - val_mae: 1.9351\n",
      "Epoch 52/100\n",
      "1204/1204 [==============================] - 3s 2ms/step - loss: 2.5226 - mse: 2.5226 - mae: 1.2522 - val_loss: 1.2558 - val_mse: 1.2558 - val_mae: 0.8655\n",
      "Epoch 53/100\n",
      "1204/1204 [==============================] - 3s 2ms/step - loss: 2.4471 - mse: 2.4471 - mae: 1.2261 - val_loss: 1.1771 - val_mse: 1.1771 - val_mae: 0.8278\n",
      "Epoch 54/100\n",
      "1204/1204 [==============================] - 3s 2ms/step - loss: 2.7346 - mse: 2.7346 - mae: 1.2966 - val_loss: 3.3868 - val_mse: 3.3868 - val_mae: 1.5583\n",
      "Epoch 55/100\n",
      "1204/1204 [==============================] - 3s 2ms/step - loss: 2.5623 - mse: 2.5623 - mae: 1.2695 - val_loss: 3.4270 - val_mse: 3.4270 - val_mae: 1.5699\n",
      "Epoch 56/100\n",
      "1204/1204 [==============================] - 3s 2ms/step - loss: 2.4659 - mse: 2.4659 - mae: 1.2245 - val_loss: 14.5322 - val_mse: 14.5322 - val_mae: 3.6497\n",
      "Epoch 57/100\n",
      "1204/1204 [==============================] - 2s 2ms/step - loss: 2.7972 - mse: 2.7972 - mae: 1.3093 - val_loss: 1.3397 - val_mse: 1.3397 - val_mae: 0.9060\n",
      "Epoch 58/100\n",
      "1204/1204 [==============================] - 3s 2ms/step - loss: 2.3507 - mse: 2.3507 - mae: 1.2079 - val_loss: 5.1741 - val_mse: 5.1741 - val_mae: 1.9904\n",
      "Epoch 59/100\n",
      "1204/1204 [==============================] - 3s 2ms/step - loss: 77.1693 - mse: 77.1693 - mae: 2.4508 - val_loss: 1.2174 - val_mse: 1.2174 - val_mae: 0.8339\n",
      "Epoch 60/100\n",
      "1204/1204 [==============================] - 3s 2ms/step - loss: 1.4588 - mse: 1.4588 - mae: 0.9295 - val_loss: 1.7435 - val_mse: 1.7435 - val_mae: 1.0353\n",
      "Epoch 61/100\n",
      "1204/1204 [==============================] - 3s 2ms/step - loss: 1.5835 - mse: 1.5835 - mae: 0.9747 - val_loss: 1.6745 - val_mse: 1.6745 - val_mae: 0.9992\n",
      "Epoch 62/100\n",
      "1204/1204 [==============================] - 3s 2ms/step - loss: 2.3462 - mse: 2.3462 - mae: 1.2050 - val_loss: 2.2469 - val_mse: 2.2469 - val_mae: 1.2435\n",
      "Epoch 63/100\n",
      "1204/1204 [==============================] - 3s 2ms/step - loss: 2.5613 - mse: 2.5613 - mae: 1.2599 - val_loss: 17.7105 - val_mse: 17.7105 - val_mae: 4.0723\n",
      "Epoch 64/100\n",
      "1204/1204 [==============================] - 3s 2ms/step - loss: 2.6546 - mse: 2.6546 - mae: 1.2801 - val_loss: 2.3514 - val_mse: 2.3514 - val_mae: 1.2157\n",
      "Epoch 65/100\n",
      "1204/1204 [==============================] - 3s 2ms/step - loss: 2.8422 - mse: 2.8422 - mae: 1.3243 - val_loss: 9.0820 - val_mse: 9.0820 - val_mae: 2.8197\n",
      "Epoch 66/100\n",
      "1204/1204 [==============================] - 2s 2ms/step - loss: 58.7079 - mse: 58.7079 - mae: 2.2389 - val_loss: 1.4968 - val_mse: 1.4968 - val_mae: 0.9729\n",
      "Epoch 67/100\n",
      "1204/1204 [==============================] - 3s 3ms/step - loss: 1.3802 - mse: 1.3802 - mae: 0.9006 - val_loss: 1.1575 - val_mse: 1.1575 - val_mae: 0.8149\n",
      "Epoch 68/100\n",
      "1204/1204 [==============================] - 3s 2ms/step - loss: 1.5653 - mse: 1.5653 - mae: 0.9682 - val_loss: 1.8521 - val_mse: 1.8521 - val_mae: 1.1012\n",
      "Epoch 69/100\n",
      "1204/1204 [==============================] - 3s 2ms/step - loss: 1.9789 - mse: 1.9789 - mae: 1.0988 - val_loss: 7.6757 - val_mse: 7.6757 - val_mae: 2.5594\n",
      "Epoch 70/100\n",
      "1204/1204 [==============================] - 3s 3ms/step - loss: 2.1959 - mse: 2.1959 - mae: 1.1653 - val_loss: 2.1394 - val_mse: 2.1394 - val_mae: 1.1539\n",
      "Epoch 71/100\n",
      "1204/1204 [==============================] - 3s 2ms/step - loss: 2.4775 - mse: 2.4775 - mae: 1.2329 - val_loss: 11.7747 - val_mse: 11.7747 - val_mae: 3.2628\n",
      "Epoch 72/100\n",
      "1204/1204 [==============================] - 3s 2ms/step - loss: 2.7442 - mse: 2.7442 - mae: 1.2928 - val_loss: 2.6653 - val_mse: 2.6653 - val_mae: 1.3734\n",
      "Epoch 73/100\n",
      "1204/1204 [==============================] - 3s 2ms/step - loss: 2.4065 - mse: 2.4065 - mae: 1.2185 - val_loss: 1.7505 - val_mse: 1.7505 - val_mae: 1.0541\n",
      "Epoch 74/100\n",
      "1204/1204 [==============================] - 2s 2ms/step - loss: 2.3747 - mse: 2.3747 - mae: 1.2124 - val_loss: 1.1976 - val_mse: 1.1976 - val_mae: 0.8207\n",
      "Epoch 75/100\n",
      "1204/1204 [==============================] - 2s 2ms/step - loss: 2.3716 - mse: 2.3716 - mae: 1.2073 - val_loss: 13.3261 - val_mse: 13.3261 - val_mae: 3.4794\n",
      "Epoch 76/100\n",
      "1204/1204 [==============================] - 2s 2ms/step - loss: 13.9671 - mse: 13.9671 - mae: 1.6505 - val_loss: 1.4296 - val_mse: 1.4296 - val_mae: 0.9221\n",
      "Epoch 77/100\n",
      "1204/1204 [==============================] - 2s 2ms/step - loss: 1.9089 - mse: 1.9089 - mae: 1.0831 - val_loss: 1.8006 - val_mse: 1.8006 - val_mae: 1.0247\n",
      "Epoch 78/100\n",
      "1204/1204 [==============================] - 2s 2ms/step - loss: 2.4231 - mse: 2.4231 - mae: 1.2260 - val_loss: 3.9408 - val_mse: 3.9408 - val_mae: 1.7259\n",
      "Epoch 79/100\n",
      "1204/1204 [==============================] - 3s 2ms/step - loss: 2.4285 - mse: 2.4285 - mae: 1.2218 - val_loss: 1.4721 - val_mse: 1.4721 - val_mae: 0.9566\n",
      "Epoch 80/100\n",
      "1204/1204 [==============================] - 3s 2ms/step - loss: 20.6142 - mse: 20.6142 - mae: 1.8477 - val_loss: 1.5107 - val_mse: 1.5107 - val_mae: 0.9289\n",
      "Epoch 81/100\n",
      "1204/1204 [==============================] - 2s 2ms/step - loss: 1.5369 - mse: 1.5369 - mae: 0.9629 - val_loss: 1.7980 - val_mse: 1.7980 - val_mae: 1.0764\n",
      "Epoch 82/100\n",
      "1204/1204 [==============================] - 2s 2ms/step - loss: 1.7320 - mse: 1.7320 - mae: 1.0221 - val_loss: 1.8021 - val_mse: 1.8021 - val_mae: 1.0513\n",
      "Epoch 83/100\n",
      "1204/1204 [==============================] - 2s 2ms/step - loss: 2.2284 - mse: 2.2284 - mae: 1.1698 - val_loss: 1.2505 - val_mse: 1.2505 - val_mae: 0.8357\n",
      "Epoch 84/100\n",
      "1204/1204 [==============================] - 2s 2ms/step - loss: 2.5573 - mse: 2.5573 - mae: 1.2543 - val_loss: 2.2706 - val_mse: 2.2706 - val_mae: 1.2180\n",
      "Epoch 85/100\n",
      "1204/1204 [==============================] - 2s 1ms/step - loss: 38.7166 - mse: 38.7166 - mae: 1.9853 - val_loss: 1.1683 - val_mse: 1.1683 - val_mae: 0.8294\n",
      "Epoch 86/100\n",
      "1204/1204 [==============================] - 2s 2ms/step - loss: 1.4031 - mse: 1.4031 - mae: 0.9171 - val_loss: 1.4992 - val_mse: 1.4992 - val_mae: 0.9482\n",
      "Epoch 87/100\n",
      "1204/1204 [==============================] - 3s 2ms/step - loss: 1.6860 - mse: 1.6860 - mae: 1.0116 - val_loss: 1.3803 - val_mse: 1.3803 - val_mae: 0.9175\n",
      "Epoch 88/100\n",
      "1204/1204 [==============================] - 2s 2ms/step - loss: 2.1648 - mse: 2.1648 - mae: 1.1557 - val_loss: 1.4823 - val_mse: 1.4823 - val_mae: 0.9319\n",
      "Epoch 89/100\n",
      "1204/1204 [==============================] - 3s 2ms/step - loss: 2.4192 - mse: 2.4192 - mae: 1.2266 - val_loss: 1.6724 - val_mse: 1.6724 - val_mae: 1.0483\n",
      "Epoch 90/100\n",
      "1204/1204 [==============================] - 3s 2ms/step - loss: 2.3343 - mse: 2.3343 - mae: 1.2014 - val_loss: 1.2953 - val_mse: 1.2953 - val_mae: 0.8860\n",
      "Epoch 91/100\n",
      "1204/1204 [==============================] - 3s 2ms/step - loss: 2.1981 - mse: 2.1981 - mae: 1.1602 - val_loss: 4.1836 - val_mse: 4.1836 - val_mae: 1.8183\n",
      "Epoch 92/100\n",
      "1204/1204 [==============================] - 2s 2ms/step - loss: 2.3444 - mse: 2.3444 - mae: 1.2055 - val_loss: 2.3420 - val_mse: 2.3420 - val_mae: 1.2256\n",
      "Epoch 93/100\n",
      "1204/1204 [==============================] - 3s 2ms/step - loss: 2.1254 - mse: 2.1254 - mae: 1.1372 - val_loss: 1.8542 - val_mse: 1.8542 - val_mae: 1.0929\n",
      "Epoch 94/100\n",
      "1204/1204 [==============================] - 3s 2ms/step - loss: 2.4161 - mse: 2.4161 - mae: 1.2122 - val_loss: 2.4125 - val_mse: 2.4125 - val_mae: 1.2388\n",
      "Epoch 95/100\n",
      "1204/1204 [==============================] - 2s 2ms/step - loss: 24.8640 - mse: 24.8640 - mae: 1.6708 - val_loss: 1.1972 - val_mse: 1.1972 - val_mae: 0.8213\n",
      "Epoch 96/100\n",
      "1204/1204 [==============================] - 3s 2ms/step - loss: 1.5796 - mse: 1.5796 - mae: 0.9726 - val_loss: 12.8406 - val_mse: 12.8406 - val_mae: 3.4086\n",
      "Epoch 97/100\n",
      "1204/1204 [==============================] - 3s 2ms/step - loss: 1.9475 - mse: 1.9475 - mae: 1.0729 - val_loss: 4.0303 - val_mse: 4.0303 - val_mae: 1.7576\n",
      "Epoch 98/100\n",
      "1204/1204 [==============================] - 3s 2ms/step - loss: 2.1692 - mse: 2.1692 - mae: 1.1568 - val_loss: 1.2044 - val_mse: 1.2044 - val_mae: 0.8484\n",
      "Epoch 99/100\n",
      "1204/1204 [==============================] - 3s 2ms/step - loss: 2.2083 - mse: 2.2083 - mae: 1.1583 - val_loss: 1.4796 - val_mse: 1.4796 - val_mae: 0.9593\n",
      "Epoch 100/100\n",
      "1204/1204 [==============================] - 3s 2ms/step - loss: 25.0468 - mse: 25.0468 - mae: 1.8022 - val_loss: 2.0545 - val_mse: 2.0545 - val_mae: 1.1428\n"
     ]
    }
   ],
   "source": [
    "ddd=random_result.best_params_\n",
    "keras_tuned=keras_reg_model2(learning_rate=ddd['learning_rate'],activation_function=ddd['activation_function'],init=ddd['init'],neuron1=ddd['neuron1'],neuron2=ddd['neuron2'])\n",
    "history2=keras_tuned.fit(x_train,y_train,validation_data=(x_test,y_test),epochs=ddd['epochs'],batch_size=ddd['batch_size'])"
   ]
  },
  {
   "cell_type": "code",
   "execution_count": 32,
   "id": "47f48f67",
   "metadata": {},
   "outputs": [
    {
     "data": {
      "image/png": "[encoded data removed]",
      "text/plain": [
       "<Figure size 640x480 with 1 Axes>"
      ]
     },
     "metadata": {},
     "output_type": "display_data"
    }
   ],
   "source": [
    "# PLotting Loss(MSE) After Tuning\n",
    "\n",
    "plt.title('Model Loss(MSE)After Tuning')\n",
    "plt.plot(history2.history['loss'], label='train')\n",
    "plt.plot(history2.history['val_loss'], label='test')\n",
    "plt.ylabel('MSE')\n",
    "plt.xlabel('epoch')\n",
    "\n",
    "plt.legend()\n",
    "plt.show()"
   ]
  },
  {
   "cell_type": "markdown",
   "id": "d6dac4d8",
   "metadata": {},
   "source": [
    "# Evaluate the model"
   ]
  },
  {
   "cell_type": "code",
   "execution_count": 33,
   "id": "c25fef3e",
   "metadata": {},
   "outputs": [
    {
     "name": "stdout",
     "output_type": "stream",
     "text": [
      "376/376 [==============================] - 1s 1ms/step\n",
      "94/94 [==============================] - 0s 1ms/step\n",
      "Training set rmse : 1.417,Testing set rmse: 1.433\n"
     ]
    }
   ],
   "source": [
    "y_train_pred_tuned=keras_tuned.predict(x_train)\n",
    "y_test_pred_tuned=keras_tuned.predict(x_test)\n",
    "train_rmse_tuned=mean_squared_error(y_train,y_train_pred_tuned,squared=False)\n",
    "test_rmse_tuned=mean_squared_error(y_test,y_test_pred_tuned,squared=False)\n",
    "\n",
    "print('Training set rmse : %.3f,Testing set rmse: %.3f' %(train_rmse_tuned,test_rmse_tuned))"
   ]
  },
  {
   "cell_type": "markdown",
   "id": "cb4b5648",
   "metadata": {},
   "source": [
    "# Comparing base model and tuned model"
   ]
  },
  {
   "cell_type": "code",
   "execution_count": 34,
   "id": "7993b2ea",
   "metadata": {},
   "outputs": [],
   "source": [
    "final=pd.DataFrame({'models':['base model','tuned model'],'train rmse':[train_rmse,train_rmse_tuned],'test rmse':[test_rmse,test_rmse_tuned]})"
   ]
  },
  {
   "cell_type": "code",
   "execution_count": 35,
   "id": "00b54dc3",
   "metadata": {},
   "outputs": [
    {
     "data": {
      "text/html": [
       "<div>\n",
       "<style scoped>\n",
       "    .dataframe tbody tr th:only-of-type {\n",
       "        vertical-align: middle;\n",
       "    }\n",
       "\n",
       "    .dataframe tbody tr th {\n",
       "        vertical-align: top;\n",
       "    }\n",
       "\n",
       "    .dataframe thead th {\n",
       "        text-align: right;\n",
       "    }\n",
       "</style>\n",
       "<table border=\"1\" class=\"dataframe\">\n",
       "  <thead>\n",
       "    <tr style=\"text-align: right;\">\n",
       "      <th></th>\n",
       "      <th>models</th>\n",
       "      <th>train rmse</th>\n",
       "      <th>test rmse</th>\n",
       "    </tr>\n",
       "  </thead>\n",
       "  <tbody>\n",
       "    <tr>\n",
       "      <th>0</th>\n",
       "      <td>base model</td>\n",
       "      <td>135.19943</td>\n",
       "      <td>134.796142</td>\n",
       "    </tr>\n",
       "    <tr>\n",
       "      <th>1</th>\n",
       "      <td>tuned model</td>\n",
       "      <td>1.41750</td>\n",
       "      <td>1.433343</td>\n",
       "    </tr>\n",
       "  </tbody>\n",
       "</table>\n",
       "</div>"
      ],
      "text/plain": [
       "        models  train rmse   test rmse\n",
       "0   base model   135.19943  134.796142\n",
       "1  tuned model     1.41750    1.433343"
      ]
     },
     "execution_count": 35,
     "metadata": {},
     "output_type": "execute_result"
    }
   ],
   "source": [
    "final"
   ]
  },
  {
   "cell_type": "code",
   "execution_count": null,
   "id": "ad3f3c96",
   "metadata": {},
   "outputs": [],
   "source": []
  }
 ],
 "metadata": {
  "kernelspec": {
   "display_name": "Python 3 (ipykernel)",
   "language": "python",
   "name": "python3"
  },
  "language_info": {
   "codemirror_mode": {
    "name": "ipython",
    "version": 3
   },
   "file_extension": ".py",
   "mimetype": "text/x-python",
   "name": "python",
   "nbconvert_exporter": "python",
   "pygments_lexer": "ipython3",
   "version": "3.9.13"
  }
 },
 "nbformat": 4,
 "nbformat_minor": 5
}
